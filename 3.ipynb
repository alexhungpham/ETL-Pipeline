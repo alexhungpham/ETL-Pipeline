{
 "cells": [
  {
   "cell_type": "code",
   "execution_count": 12,
   "metadata": {},
   "outputs": [],
   "source": [
    "import pandas as pd\n",
    "data = pd.read_html('https://cafef.vn/bat-dau-phien-xu-vu-an-tai-dongabank-giai-doan-2-dai-gia-phung-ngoc-khanh-lo-dien-2020062311231454.chn')"
   ]
  },
  {
   "cell_type": "code",
   "execution_count": 13,
   "metadata": {},
   "outputs": [
    {
     "output_type": "execute_result",
     "data": {
      "text/plain": "[                                               0  \\\n 0  Tin tức  Thời sự  Doanh nghiệp  Kinh tế vĩ mô   \n \n                                                    1  \\\n 0  Tài chính - Chứng khoán  Chứng khoán  Tài chín...   \n \n                                             2  \\\n 0  Bất động sản  Tin tức  Dự án  Bản đồ dự án   \n \n                                          3  \n 0  Khác  Hàng hóa nguyên liệu  Sống  Video  ]"
     },
     "metadata": {},
     "execution_count": 13
    }
   ],
   "source": [
    "data"
   ]
  },
  {
   "cell_type": "code",
   "execution_count": null,
   "metadata": {},
   "outputs": [],
   "source": []
  }
 ],
 "metadata": {
  "language_info": {
   "codemirror_mode": {
    "name": "ipython",
    "version": 3
   },
   "file_extension": ".py",
   "mimetype": "text/x-python",
   "name": "python",
   "nbconvert_exporter": "python",
   "pygments_lexer": "ipython3",
   "version": "3.7.5-final"
  },
  "orig_nbformat": 2,
  "kernelspec": {
   "name": "python37564bit375conda13e4eac143b54ab6be4efdc843cd8e85",
   "display_name": "Python 3.7.5 64-bit ('3.7.5': conda)"
  }
 },
 "nbformat": 4,
 "nbformat_minor": 2
}